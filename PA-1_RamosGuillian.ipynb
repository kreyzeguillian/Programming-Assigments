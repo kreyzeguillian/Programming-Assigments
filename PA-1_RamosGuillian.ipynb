{
 "cells": [
  {
   "cell_type": "markdown",
   "id": "942e3d37-2453-4922-ac9b-f63855d7524d",
   "metadata": {},
   "source": [
    "# ALPHABET SOUP PROBLEM"
   ]
  },
  {
   "cell_type": "code",
   "execution_count": 5,
   "id": "96f50640-25c6-4f27-8453-ee6a6f71457d",
   "metadata": {},
   "outputs": [
    {
     "data": {
      "text/plain": [
       "'behlloor'"
      ]
     },
     "execution_count": 5,
     "metadata": {},
     "output_type": "execute_result"
    }
   ],
   "source": [
    "def alphabet_soup(str):\n",
    "    lst = sorted(str)\n",
    "    lst.remove(' ')\n",
    "    return ''.join(lst)\n",
    "    \n",
    "alphabet_soup(\"hello bro\")"
   ]
  },
  {
   "cell_type": "markdown",
   "id": "25224b36-de95-43e6-8a00-c6cb4429980d",
   "metadata": {},
   "source": [
    "# EMOTICON PROBLEM"
   ]
  },
  {
   "cell_type": "code",
   "execution_count": 25,
   "id": "1faee1f8-c2b0-4297-ba6b-2c5409eb709d",
   "metadata": {},
   "outputs": [
    {
     "name": "stdout",
     "output_type": "stream",
     "text": [
      "make me :((\n"
     ]
    }
   ],
   "source": [
    "def emotify(words):\n",
    "    emoticons = {\n",
    "    \"smile\": \":)\",\n",
    "    \"grin\": \":D\",\n",
    "    \"sad\": \":((\",\n",
    "    \"mad\": \">:(\",\n",
    "    }\n",
    "    for key, value in emoticons.items():\n",
    "        if key in words:\n",
    "            return print(words.lower().replace(key, value))\n",
    "    return print(words)\n",
    "\n",
    "emotify(\"Make me sad\")"
   ]
  },
  {
   "cell_type": "markdown",
   "id": "fc03d893-c66f-41bc-88ca-ce6a54738373",
   "metadata": {},
   "source": [
    "# UNPACKING LIST PROBLEM"
   ]
  },
  {
   "cell_type": "code",
   "execution_count": 101,
   "id": "95003ceb-08d6-4df2-acee-f05020f9d9cb",
   "metadata": {},
   "outputs": [
    {
     "name": "stdout",
     "output_type": "stream",
     "text": [
      "first: 1\n",
      "middle: [2, 3, 4, 5]\n",
      "last: 6\n"
     ]
    }
   ],
   "source": [
    "lst = [1, 2, 3, 4, 5, 6]\n",
    "\n",
    "first = lst[0]\n",
    "middle = lst[1:-1]\n",
    "last = lst[-1]\n",
    "\n",
    "print(\"first:\", first)\n",
    "print(\"middle:\", middle)\n",
    "print(\"last:\", last)"
   ]
  },
  {
   "cell_type": "code",
   "execution_count": null,
   "id": "14835ab7-710c-49f6-baeb-f43bfe08a71b",
   "metadata": {},
   "outputs": [],
   "source": []
  }
 ],
 "metadata": {
  "kernelspec": {
   "display_name": "Python 3 (ipykernel)",
   "language": "python",
   "name": "python3"
  },
  "language_info": {
   "codemirror_mode": {
    "name": "ipython",
    "version": 3
   },
   "file_extension": ".py",
   "mimetype": "text/x-python",
   "name": "python",
   "nbconvert_exporter": "python",
   "pygments_lexer": "ipython3",
   "version": "3.12.4"
  }
 },
 "nbformat": 4,
 "nbformat_minor": 5
}
