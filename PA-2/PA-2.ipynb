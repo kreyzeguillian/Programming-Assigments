{
 "cells": [
  {
   "cell_type": "code",
   "execution_count": 4,
   "id": "e2160b00-27a8-42a1-91c1-5c968dc49a86",
   "metadata": {},
   "outputs": [],
   "source": [
    "# Imports numpy library\n",
    "import numpy as np"
   ]
  },
  {
   "cell_type": "markdown",
   "id": "6cda852f-0cff-40e9-915d-e406a9652853",
   "metadata": {},
   "source": [
    "# NORMALIZATION PROBLEM:"
   ]
  },
  {
   "cell_type": "code",
   "execution_count": 22,
   "id": "b69454ae-1061-414f-9c08-5dd841ac14e2",
   "metadata": {},
   "outputs": [
    {
     "name": "stdout",
     "output_type": "stream",
     "text": [
      "5x5 array\n",
      " [[0.66918045 0.20397396 0.2240664  0.04579046 0.0888551 ]\n",
      " [0.20238418 0.62631451 0.57317644 0.69110196 0.59836721]\n",
      " [0.45813194 0.93741406 0.0685882  0.32832756 0.97648851]\n",
      " [0.3412026  0.96567758 0.58598277 0.04873852 0.74004227]\n",
      " [0.06144668 0.08759669 0.22802044 0.35793601 0.70222383]]\n",
      "Normalized array\n",
      " [[ 0.78849945 -0.76094771 -0.69402652 -1.28780403 -1.14437014]\n",
      " [-0.76624275  0.64572734  0.46874223  0.86151266  0.55264426]\n",
      " [ 0.08556749  1.68189587 -1.2118724  -0.34676748  1.81203979]\n",
      " [-0.30388502  1.77603221  0.51139584 -1.27798502  1.02451648]\n",
      " [-1.23565841 -1.14856149 -0.68085694 -0.24815165  0.89855591]]\n"
     ]
    }
   ],
   "source": [
    "# Creates a 5x5 2d array containing random values ranging from 0-1\n",
    "X = np.random.random((5,5))\n",
    "\n",
    "# Prints the 5x5 array\n",
    "print(\"5x5 array\\n\", X)\n",
    "\n",
    "# Calculates and stores the normalized array\n",
    "Z = (X - X.mean())/X.std()\n",
    "\n",
    "# Prints the normalized array\n",
    "print(\"Normalized array\\n\", Z)\n",
    "\n",
    "# Saves the arrays on disk\n",
    "np.save('X_normalized', Z)"
   ]
  },
  {
   "cell_type": "markdown",
   "id": "d8b937f8-5a88-4154-a730-c41bbb432a5f",
   "metadata": {},
   "source": [
    "# DIVISIBLE BY 3 PROBLEM:"
   ]
  },
  {
   "cell_type": "code",
   "execution_count": 24,
   "id": "5ba1eb82-ada4-4341-9291-76c10ecca5fe",
   "metadata": {},
   "outputs": [
    {
     "name": "stdout",
     "output_type": "stream",
     "text": [
      "squares of the first 100 positive integers:\n",
      " [[    1     4     9    16    25    36    49    64    81   100]\n",
      " [  121   144   169   196   225   256   289   324   361   400]\n",
      " [  441   484   529   576   625   676   729   784   841   900]\n",
      " [  961  1024  1089  1156  1225  1296  1369  1444  1521  1600]\n",
      " [ 1681  1764  1849  1936  2025  2116  2209  2304  2401  2500]\n",
      " [ 2601  2704  2809  2916  3025  3136  3249  3364  3481  3600]\n",
      " [ 3721  3844  3969  4096  4225  4356  4489  4624  4761  4900]\n",
      " [ 5041  5184  5329  5476  5625  5776  5929  6084  6241  6400]\n",
      " [ 6561  6724  6889  7056  7225  7396  7569  7744  7921  8100]\n",
      " [ 8281  8464  8649  8836  9025  9216  9409  9604  9801 10000]]\n",
      "numbers divisible by 3:\n",
      " [   9   36   81  144  225  324  441  576  729  900 1089 1296 1521 1764\n",
      " 2025 2304 2601 2916 3249 3600 3969 4356 4761 5184 5625 6084 6561 7056\n",
      " 7569 8100 8649 9216 9801]\n"
     ]
    }
   ],
   "source": [
    "# Creates a 1d array containing numbers 1-100 then takes the square of each number\n",
    "A = (np.arange(1,101)**2)\n",
    "\n",
    "# Reshapes the array into a 10x10 2d matrix\n",
    "A = A.reshape(10,10)\n",
    "\n",
    "# Prints the 10x10 array\n",
    "print(\"squares of the first 100 positive integers:\\n\", A)\n",
    "\n",
    "# Subsets array 'A' for all numbers divisible by 3 then stores it to 'D'\n",
    "D = A[A%3==0]\n",
    "\n",
    "# Prints the subset\n",
    "print(\"numbers divisible by 3:\\n\", D)\n",
    "\n",
    "# Saves the arrays on disk\n",
    "np.save('div_by_3', D)"
   ]
  }
 ],
 "metadata": {
  "kernelspec": {
   "display_name": "Python 3 (ipykernel)",
   "language": "python",
   "name": "python3"
  },
  "language_info": {
   "codemirror_mode": {
    "name": "ipython",
    "version": 3
   },
   "file_extension": ".py",
   "mimetype": "text/x-python",
   "name": "python",
   "nbconvert_exporter": "python",
   "pygments_lexer": "ipython3",
   "version": "3.12.4"
  }
 },
 "nbformat": 4,
 "nbformat_minor": 5
}
