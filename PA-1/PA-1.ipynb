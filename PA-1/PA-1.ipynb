{
 "cells": [
  {
   "cell_type": "markdown",
   "id": "942e3d37-2453-4922-ac9b-f63855d7524d",
   "metadata": {},
   "source": [
    "# ALPHABET SOUP PROBLEM"
   ]
  },
  {
   "cell_type": "code",
   "execution_count": 51,
   "id": "96f50640-25c6-4f27-8453-ee6a6f71457d",
   "metadata": {},
   "outputs": [
    {
     "name": "stdout",
     "output_type": "stream",
     "text": [
      "eghllosuy\n",
      "ehllo\n",
      "acehkr\n"
     ]
    }
   ],
   "source": [
    "#Defining function\n",
    "def alphabet_soup(str):\n",
    "    #Lowercasing the string then converting to list through sorting\n",
    "    lst = sorted(str.lower())\n",
    "    #Remove any whitespaces\n",
    "    while ' ' in lst:\n",
    "        lst.remove(' ')\n",
    "    #Return sorted list as string\n",
    "    return print(''.join(lst))\n",
    "\n",
    "#Function call\n",
    "alphabet_soup(\"Hello Guys\")\n",
    "alphabet_soup(\"hello\")\n",
    "alphabet_soup(\"hacker\")"
   ]
  },
  {
   "cell_type": "markdown",
   "id": "25224b36-de95-43e6-8a00-c6cb4429980d",
   "metadata": {},
   "source": [
    "# EMOTICON PROBLEM"
   ]
  },
  {
   "cell_type": "code",
   "execution_count": 49,
   "id": "1faee1f8-c2b0-4297-ba6b-2c5409eb709d",
   "metadata": {},
   "outputs": [
    {
     "name": "stdout",
     "output_type": "stream",
     "text": [
      "Make me :)\n",
      "I am >:(\n"
     ]
    }
   ],
   "source": [
    "#Defining function\n",
    "def emotify(words):\n",
    "    #Initializing dictionary of emoticons\n",
    "    emoticons = {\n",
    "    \"smile\": \":)\",\n",
    "    \"grin\": \":D\",\n",
    "    \"sad\": \":((\",\n",
    "    \"mad\": \">:(\",\n",
    "    }\n",
    "    #Loop through the dictionary items\n",
    "    for key, value in emoticons.items():\n",
    "        #Condition for replacing the key with the corresponding emoticon\n",
    "        if key.lower() in words.lower():\n",
    "            return print(words.replace(key, value))\n",
    "    #Return original statement if no match is found\n",
    "    return print(words)\n",
    "\n",
    "#Function call\n",
    "emotify(\"Make me smile\")\n",
    "emotify(\"I am mad\")"
   ]
  },
  {
   "cell_type": "markdown",
   "id": "fc03d893-c66f-41bc-88ca-ce6a54738373",
   "metadata": {},
   "source": [
    "# UNPACKING LIST PROBLEM"
   ]
  },
  {
   "cell_type": "code",
   "execution_count": 53,
   "id": "95003ceb-08d6-4df2-acee-f05020f9d9cb",
   "metadata": {},
   "outputs": [
    {
     "name": "stdout",
     "output_type": "stream",
     "text": [
      "first: 1\n",
      "middle: [2, 3, 4, 5]\n",
      "last: 6\n"
     ]
    }
   ],
   "source": [
    "#List initialization\n",
    "lst = [1, 2, 3, 4, 5, 6]\n",
    "\n",
    "#Unpacking list through indexing\n",
    "first = lst[0]\n",
    "middle = lst[1:-1]\n",
    "last = lst[-1]\n",
    "\n",
    "#Printing of the three variables\n",
    "print(\"first:\", first)\n",
    "print(\"middle:\", middle)\n",
    "print(\"last:\", last)"
   ]
  }
 ],
 "metadata": {
  "kernelspec": {
   "display_name": "Python 3 (ipykernel)",
   "language": "python",
   "name": "python3"
  },
  "language_info": {
   "codemirror_mode": {
    "name": "ipython",
    "version": 3
   },
   "file_extension": ".py",
   "mimetype": "text/x-python",
   "name": "python",
   "nbconvert_exporter": "python",
   "pygments_lexer": "ipython3",
   "version": "3.12.4"
  }
 },
 "nbformat": 4,
 "nbformat_minor": 5
}
